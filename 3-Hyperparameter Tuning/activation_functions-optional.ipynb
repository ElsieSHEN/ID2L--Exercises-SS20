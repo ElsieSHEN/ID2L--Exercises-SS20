{
 "cells": [
  {
   "cell_type": "markdown",
   "metadata": {},
   "source": [
    "# Optional: Different Actication Functions\n",
    "\n",
    "It is __optional__ but recommended for you to implement these activation functions in ```exercise_code/networks/layer.py```, both forward and backward pass, as a choice of hyperparameter. \n",
    "\n",
    "__Note__: We provide you with the sigmoid activation function for your convenience, which you've already worked with in previous exercises. "
   ]
  },
  {
   "cell_type": "code",
   "execution_count": 1,
   "metadata": {},
   "outputs": [],
   "source": [
    "# Some lengthy setup.\n",
    "import matplotlib.pyplot as plt\n",
    "import numpy as np\n",
    "import os\n",
    "\n",
    "from exercise_code.networks.layer import (\n",
    "    Sigmoid, \n",
    "    Relu, \n",
    "    LeakyRelu, \n",
    "    Tanh,\n",
    ")\n",
    "from exercise_code.data import (\n",
    "    DataLoader,\n",
    "    ImageFolderDataset,\n",
    "    RescaleTransform,\n",
    "    NormalizeTransform,\n",
    "    FlattenTransform,\n",
    "    ComposeTransform,\n",
    ")\n",
    "from exercise_code.networks import (\n",
    "    ClassificationNet,\n",
    "    BCE,\n",
    "    CrossEntropyFromLogits\n",
    ")\n",
    "\n",
    "%load_ext autoreload\n",
    "%autoreload 2\n",
    "%matplotlib inline\n",
    "\n",
    "plt.rcParams['figure.figsize'] = (10.0, 8.0) # set default size of plots\n",
    "plt.rcParams['image.interpolation'] = 'nearest'\n",
    "plt.rcParams['image.cmap'] = 'gray'\n",
    "\n",
    "download_url = \"https://cdn3.vision.in.tum.de/~dl4cv/cifar10.zip\"\n",
    "i2dl_exercises_path = os.path.dirname(os.path.abspath(os.getcwd()))\n",
    "cifar_root = os.path.join(i2dl_exercises_path, \"datasets\", \"cifar10\")\n",
    "\n",
    "# Use the Cifar10 mean and standard deviation computed in Exercise 3.\n",
    "cifar_mean = np.array([0.49191375, 0.48235852, 0.44673872])\n",
    "cifar_std  = np.array([0.24706447, 0.24346213, 0.26147554])\n",
    "\n",
    "# Define all the transforms we will apply on the images when \n",
    "# retrieving them.\n",
    "rescale_transform = RescaleTransform()\n",
    "normalize_transform = NormalizeTransform(\n",
    "    mean=cifar_mean,\n",
    "    std=cifar_std\n",
    ")\n",
    "flatten_transform = FlattenTransform()\n",
    "compose_transform = ComposeTransform([rescale_transform, \n",
    "                                      normalize_transform,\n",
    "                                      flatten_transform])\n",
    "\n",
    "# Create a train, validation and test dataset.\n",
    "datasets = {}\n",
    "for mode in ['train', 'val', 'test']:\n",
    "    crt_dataset = ImageFolderDataset(\n",
    "        mode=mode,\n",
    "        root=cifar_root, \n",
    "        download_url=download_url,\n",
    "        transform=compose_transform,\n",
    "        split={'train': 0.6, 'val': 0.2, 'test': 0.2}\n",
    "    )\n",
    "    datasets[mode] = crt_dataset"
   ]
  },
  {
   "cell_type": "markdown",
   "metadata": {},
   "source": [
    "Recall that activation functions introduce more non-linearity to the network. Here we introduce several kinds of activation functions:\n",
    "\n",
    "* Sigmoid\n",
    "\n",
    "$$Sigmoid(x) = \\frac{1}{1 + exp(-x)}$$\n",
    "\n",
    "<img src=https://pytorch.org/docs/stable/_images/Sigmoid.png alt=\"Figure4\" width=\"400\"/>\n",
    "\n",
    "* ReLU\n",
    "\n",
    "$$ReLU(x) = max(0, x)$$\n",
    "\n",
    "<img src=https://pytorch.org/docs/stable/_images/ReLU.png alt=\"Figure2\" width=\"400\"/>\n",
    "\n",
    "* Leaky ReLU\n",
    "\n",
    "$$LeakyReLU(x) = max(0.01x, x)$$\n",
    "\n",
    "<img src=https://pytorch.org/docs/stable/_images/LeakyReLU.png alt=\"Figure3\" width=\"400\"/>\n",
    "\n",
    "* Tanh\n",
    "\n",
    "$$Tanh(x) = \\frac{exp(x) - exp(-x)}{exp(x) + exp(-x)}$$\n",
    "\n",
    "<img src=https://pytorch.org/docs/stable/_images/Tanh.png alt=\"Figure3\" width=\"400\"/>"
   ]
  },
  {
   "cell_type": "code",
   "execution_count": null,
   "metadata": {},
   "outputs": [],
   "source": [
    "%load_ext autoreload\n",
    "%autoreload 2"
   ]
  },
  {
   "cell_type": "code",
   "execution_count": 3,
   "metadata": {},
   "outputs": [
    {
     "output_type": "stream",
     "name": "stdout",
     "text": "ReluForwardTest passed.\nReluBackwardTest passed.\nCongratulations you have passed all the unit tests!!! Tests passed: 2/2\n(0, 2)\n\nLeakyReluForwardTest passed.\nLeakyReluBackwardTest passed.\nCongratulations you have passed all the unit tests!!! Tests passed: 2/2\n(0, 2)\n\nTanhForwardTest passed.\nTanhBackwardTest passed.\nCongratulations you have passed all the unit tests!!! Tests passed: 2/2\n(0, 2)\n"
    }
   ],
   "source": [
    "from exercise_code.tests.layer_tests import *\n",
    "\n",
    "print(ReluTest()())\n",
    "print()\n",
    "print(LeakyReluTest()())\n",
    "print()\n",
    "print(TanhTest()())"
   ]
  },
  {
   "cell_type": "markdown",
   "metadata": {},
   "source": [
    "__Hint__:\n",
    "\n",
    "If you have implemented the extra activation functions, please run the following cell to check whether you have did it the right way. \n",
    "\n",
    "Otherwise just skip the cell."
   ]
  }
 ],
 "metadata": {
  "kernelspec": {
   "display_name": "Python 3.7.3 64-bit ('pytorch': conda)",
   "language": "python",
   "name": "python37364bitpytorchconda1545031e98af432db1e61eacbd344185"
  },
  "language_info": {
   "codemirror_mode": {
    "name": "ipython",
    "version": 3
   },
   "file_extension": ".py",
   "mimetype": "text/x-python",
   "name": "python",
   "nbconvert_exporter": "python",
   "pygments_lexer": "ipython3",
   "version": "3.7.3-final"
  }
 },
 "nbformat": 4,
 "nbformat_minor": 4
}