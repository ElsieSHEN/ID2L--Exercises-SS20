{
 "cells": [
  {
   "cell_type": "markdown",
   "metadata": {},
   "source": [
    "# Optional: Dropout\n",
    "\n",
    "In this Notebook we introduce the idea of Dropout and how it aids in Neural Network training. \n",
    "\n",
    "By completing this exercise you will:\n",
    "1. Know the implementation details of Dropout\n",
    "2. Notice the difference in behavior during train and test time\n",
    "3. Use Dropout in a Fully Connected Layer to see how it affects training"
   ]
  },
  {
   "cell_type": "markdown",
   "metadata": {},
   "source": [
    "# What is Dropout\n",
    "\n",
    "Dropout [1] is a technique for regularizing neural networks by randomly setting some features to zero during the forward pass. Dropout would help your Neural Network to perform better on Test data.\n",
    "\n",
    "[1] Geoffrey E. Hinton et al, \"Improving neural networks by preventing co-adaptation of feature detectors\", arXiv 2012"
   ]
  },
  {
   "cell_type": "code",
   "execution_count": 1,
   "metadata": {},
   "outputs": [],
   "source": [
    "# As usual, a bit of setup\n",
    "\n",
    "import time\n",
    "import numpy as np\n",
    "import matplotlib.pyplot as plt\n",
    "from exercise_code.layers import *\n",
    "from exercise_code.tests import *\n",
    "import torch.nn as nn\n",
    "import torch\n",
    "import torchvision\n",
    "import torchvision.transforms as transforms\n",
    "from exercise_code.BatchNormModel import SimpleNetwork, DropoutNetwork\n",
    "import pytorch_lightning as pl\n",
    "import shutil\n",
    "\n",
    "import os\n",
    "from pytorch_lightning.loggers import TensorBoardLogger\n",
    "\n",
    "%matplotlib inline\n",
    "plt.rcParams['figure.figsize'] = (10.0, 8.0) # set default size of plots\n",
    "plt.rcParams['image.interpolation'] = 'nearest'\n",
    "plt.rcParams['image.cmap'] = 'gray'\n",
    "\n",
    "# for auto-reloading external modules\n",
    "# see http://stackoverflow.com/questions/1907993/autoreload-of-modules-in-ipython\n",
    "%load_ext autoreload\n",
    "%autoreload 2\n",
    "\n",
    "# supress cluttering warnings in solutions\n",
    "import warnings\n",
    "warnings.filterwarnings('ignore')\n",
    "\n",
    "def rel_error(x, y):\n",
    "    \"\"\" returns relative error \"\"\"\n",
    "    return np.max(np.abs(x - y) / (np.maximum(1e-8, np.abs(x) + np.abs(y))))"
   ]
  },
  {
   "cell_type": "markdown",
   "metadata": {},
   "source": [
    "# Dropout forward pass\n",
    "In the file `exercise_code/layers.py`, implement the forward pass for dropout. Since dropout behaves differently during training and testing, make sure to implement the operation for both modes.\n",
    "\n",
    "Once you have done so, run the cell below to test your implementation."
   ]
  },
  {
   "cell_type": "code",
   "execution_count": 2,
   "metadata": {},
   "outputs": [
    {
     "output_type": "stream",
     "name": "stdout",
     "text": "Running tests with p =  0.3\nMean of input:  9.995692269099392\nMean of train-time output:  9.991340776836056\nMean of test-time output:  9.995692269099392\nFraction of train-time output set to zero:  0.300212\nFraction of test-time output set to zero:  0.0\n\nRunning tests with p =  0.6\nMean of input:  9.995692269099392\nMean of train-time output:  9.98293600305371\nMean of test-time output:  9.995692269099392\nFraction of train-time output set to zero:  0.600648\nFraction of test-time output set to zero:  0.0\n\nRunning tests with p =  0.75\nMean of input:  9.995692269099392\nMean of train-time output:  9.967733454211185\nMean of test-time output:  9.995692269099392\nFraction of train-time output set to zero:  0.750608\nFraction of test-time output set to zero:  0.0\n\n"
    }
   ],
   "source": [
    "x = np.random.randn(500, 500) + 10\n",
    "# Let us use different dropout values(p) for our dropout layer and see their effects\n",
    "for p in [0.3, 0.6, 0.75]:\n",
    "    out, _ = dropout_forward(x, {'mode': 'train', 'p': p})\n",
    "    out_test, _ = dropout_forward(x, {'mode': 'test', 'p': p})\n",
    "\n",
    "    print('Running tests with p = ', p)\n",
    "    print('Mean of input: ', x.mean())\n",
    "    print('Mean of train-time output: ', out.mean())\n",
    "    print('Mean of test-time output: ', out_test.mean())\n",
    "    print('Fraction of train-time output set to zero: ', (out == 0).mean())\n",
    "    print('Fraction of test-time output set to zero: ', (out_test == 0).mean())\n",
    "    print()"
   ]
  },
  {
   "cell_type": "markdown",
   "metadata": {},
   "source": [
    "# Dropout backward pass\n",
    "In the file `exercise_code/layers.py`, implement the backward pass for dropout. After doing so, run the following cell to numerically gradient-check your implementation."
   ]
  },
  {
   "cell_type": "code",
   "execution_count": 3,
   "metadata": {},
   "outputs": [
    {
     "output_type": "stream",
     "name": "stdout",
     "text": "dx relative error:  1.892905277373018e-11\n"
    }
   ],
   "source": [
    "x = np.random.randn(10, 10) + 10\n",
    "dout = np.random.randn(*x.shape)\n",
    "\n",
    "dropout_param = {'mode': 'train', 'p': 0.8, 'seed': 123}\n",
    "out, cache = dropout_forward(x, dropout_param)\n",
    "dx = dropout_backward(dout, cache)\n",
    "dx_num = eval_numerical_gradient_array(lambda xx: dropout_forward(xx, dropout_param)[0], x, dout)\n",
    "\n",
    "print('dx relative error: ', rel_error(dx, dx_num))"
   ]
  },
  {
   "cell_type": "markdown",
   "metadata": {},
   "source": [
    "# Fully-connected nets with Dropout\n",
    "As an experiment, we will train a pair of two-layer networks on training dataset: one will use no dropout, and one will use a dropout probability of 0.75. We will then visualize the training and validation accuracies of the two networks over time.\n",
    "We are going to use PyTorch Lightning Fully Connected Network and see the effects of dropout layer. Feel free to check `exercise_code/BatchNormModel.py` and play around with the parameters"
   ]
  },
  {
   "cell_type": "markdown",
   "metadata": {},
   "source": [
    "## Setup TensorBoard\n",
    "In exercise 07 you've already learned how to use TensorBoard. Let's use it again to make the debugging of our network and training process more convenient! Throughout this notebook, feel free to add further logs or visualizations your TensorBoard!"
   ]
  },
  {
   "cell_type": "code",
   "execution_count": 4,
   "metadata": {},
   "outputs": [],
   "source": [
    "# Few Hyperparameters before we start things off\n",
    "hidden_dim = 200\n",
    "batch_size = 50\n",
    "\n",
    "epochs = 5\n",
    "learning_rate = 0.00005\n",
    "logdir = './dropout_logs'\n",
    "if os.path.exists(logdir):\n",
    "    # We delete the logs on the first run\n",
    "    shutil.rmtree(logdir)\n",
    "os.mkdir(logdir)"
   ]
  },
  {
   "cell_type": "code",
   "execution_count": 5,
   "metadata": {},
   "outputs": [
    {
     "data": {
      "text/plain": "ERROR: Timed out waiting for TensorBoard to start. It may still be running as pid 18104."
     },
     "metadata": {},
     "output_type": "display_data"
    }
   ],
   "source": [
    "%load_ext tensorboard\n",
    "%tensorboard --logdir dropout_logs"
   ]
  },
  {
   "cell_type": "code",
   "execution_count": 6,
   "metadata": {},
   "outputs": [
    {
     "output_type": "stream",
     "name": "stderr",
     "text": "GPU available: False, used: False\nNo environment variable for node rank defined. Set as 0.\n\n  | Name    | Type       | Params\n-----------------------------------\n0 | model   | Sequential | 159 K \n1 | model.0 | Linear     | 157 K \n2 | model.1 | ReLU       | 0     \n3 | model.2 | Linear     | 2 K   \nValidation sanity check: 0it [00:00, ?it/s]Val-Acc=0.0004166666666666667\nEpoch 1:  80%|████████  | 960/1200 [00:29<00:07, 32.15it/s, loss=0.756, v_num=0]\nEpoch 1:  80%|████████  | 963/1200 [00:29<00:07, 32.18it/s, loss=0.756, v_num=0]\nEpoch 1:  81%|████████  | 970/1200 [00:30<00:07, 32.29it/s, loss=0.756, v_num=0]\nEpoch 1:  81%|████████▏ | 977/1200 [00:30<00:06, 32.35it/s, loss=0.756, v_num=0]\nValidating:   8%|▊         | 18/240 [00:00<00:04, 53.55it/s]\u001b[A\nEpoch 1:  82%|████████▏ | 984/1200 [00:30<00:06, 32.41it/s, loss=0.756, v_num=0]\nEpoch 1:  83%|████████▎ | 991/1200 [00:30<00:06, 32.46it/s, loss=0.756, v_num=0]\nEpoch 1:  83%|████████▎ | 998/1200 [00:30<00:06, 32.57it/s, loss=0.756, v_num=0]\nEpoch 1:  84%|████████▍ | 1005/1200 [00:30<00:05, 32.69it/s, loss=0.756, v_num=0]\nEpoch 1:  84%|████████▍ | 1012/1200 [00:30<00:05, 32.80it/s, loss=0.756, v_num=0]\nEpoch 1:  85%|████████▍ | 1019/1200 [00:30<00:05, 32.90it/s, loss=0.756, v_num=0]\nEpoch 1:  86%|████████▌ | 1026/1200 [00:31<00:05, 32.97it/s, loss=0.756, v_num=0]\nEpoch 1:  86%|████████▌ | 1034/1200 [00:31<00:05, 33.12it/s, loss=0.756, v_num=0]\nValidating:  31%|███▏      | 75/240 [00:01<00:02, 58.81it/s]\u001b[A\nEpoch 1:  87%|████████▋ | 1042/1200 [00:31<00:04, 33.24it/s, loss=0.756, v_num=0]\nEpoch 1:  88%|████████▊ | 1050/1200 [00:31<00:04, 33.36it/s, loss=0.756, v_num=0]\nEpoch 1:  88%|████████▊ | 1058/1200 [00:31<00:04, 33.38it/s, loss=0.756, v_num=0]\nEpoch 1:  89%|████████▉ | 1066/1200 [00:31<00:04, 33.48it/s, loss=0.756, v_num=0]\nEpoch 1:  90%|████████▉ | 1074/1200 [00:31<00:03, 33.60it/s, loss=0.756, v_num=0]\nValidating:  48%|████▊     | 116/240 [00:02<00:02, 53.27it/s]\u001b[A\nEpoch 1:  90%|█████████ | 1082/1200 [00:32<00:03, 33.68it/s, loss=0.756, v_num=0]\nEpoch 1:  91%|█████████ | 1091/1200 [00:32<00:03, 33.86it/s, loss=0.756, v_num=0]\nEpoch 1:  92%|█████████▏| 1100/1200 [00:32<00:02, 34.02it/s, loss=0.756, v_num=0]\nEpoch 1:  92%|█████████▏| 1109/1200 [00:32<00:02, 34.16it/s, loss=0.756, v_num=0]\nEpoch 1:  93%|█████████▎| 1118/1200 [00:32<00:02, 34.29it/s, loss=0.756, v_num=0]\nEpoch 1:  94%|█████████▍| 1127/1200 [00:32<00:02, 34.44it/s, loss=0.756, v_num=0]\nEpoch 1:  95%|█████████▍| 1136/1200 [00:32<00:01, 34.59it/s, loss=0.756, v_num=0]\nEpoch 1:  95%|█████████▌| 1145/1200 [00:32<00:01, 34.73it/s, loss=0.756, v_num=0]\nEpoch 1:  96%|█████████▌| 1154/1200 [00:33<00:01, 34.87it/s, loss=0.756, v_num=0]\nValidating:  81%|████████▏ | 195/240 [00:03<00:00, 71.08it/s]\u001b[A\nEpoch 1:  97%|█████████▋| 1163/1200 [00:33<00:01, 34.97it/s, loss=0.756, v_num=0]\nEpoch 1:  98%|█████████▊| 1172/1200 [00:33<00:00, 34.93it/s, loss=0.756, v_num=0]\nValidating:  90%|█████████ | 216/240 [00:03<00:00, 41.38it/s]\u001b[A\nEpoch 1:  98%|█████████▊| 1181/1200 [00:33<00:00, 34.94it/s, loss=0.756, v_num=0]\nEpoch 1:  99%|█████████▉| 1190/1200 [00:33<00:00, 35.06it/s, loss=0.756, v_num=0]\nEpoch 1: 100%|█████████▉| 1199/1200 [00:34<00:00, 35.22it/s, loss=0.756, v_num=0]Val-Acc=0.7580833333333333\nEpoch 1: 100%|██████████| 1200/1200 [00:34<00:00, 35.23it/s, loss=0.756, v_num=0]\nEpoch 2:  80%|████████  | 960/1200 [00:28<00:07, 33.16it/s, loss=0.577, v_num=0]\nEpoch 2:  80%|████████  | 963/1200 [00:29<00:07, 33.17it/s, loss=0.577, v_num=0]\nValidating:   2%|▏         | 5/240 [00:00<00:05, 43.88it/s]\u001b[A\nEpoch 2:  81%|████████  | 972/1200 [00:29<00:06, 33.29it/s, loss=0.577, v_num=0]\nEpoch 2:  82%|████████▏ | 982/1200 [00:29<00:06, 33.52it/s, loss=0.577, v_num=0]\nEpoch 2:  83%|████████▎ | 992/1200 [00:29<00:06, 33.71it/s, loss=0.577, v_num=0]\nEpoch 2:  84%|████████▎ | 1002/1200 [00:29<00:05, 33.89it/s, loss=0.577, v_num=0]\nEpoch 2:  84%|████████▍ | 1012/1200 [00:29<00:05, 34.09it/s, loss=0.577, v_num=0]\nEpoch 2:  85%|████████▌ | 1022/1200 [00:29<00:05, 34.24it/s, loss=0.577, v_num=0]\nValidating:  26%|██▋       | 63/240 [00:00<00:02, 65.23it/s]\u001b[A\nEpoch 2:  86%|████████▌ | 1032/1200 [00:30<00:04, 34.39it/s, loss=0.577, v_num=0]\nEpoch 2:  87%|████████▋ | 1042/1200 [00:30<00:04, 34.56it/s, loss=0.577, v_num=0]\nValidating:  35%|███▌      | 84/240 [00:01<00:02, 66.33it/s]\u001b[A\nEpoch 2:  88%|████████▊ | 1052/1200 [00:30<00:04, 34.74it/s, loss=0.577, v_num=0]\nEpoch 2:  88%|████████▊ | 1062/1200 [00:30<00:03, 34.92it/s, loss=0.577, v_num=0]\nEpoch 2:  89%|████████▉ | 1072/1200 [00:30<00:03, 35.09it/s, loss=0.577, v_num=0]\nEpoch 2:  90%|█████████ | 1082/1200 [00:30<00:03, 35.26it/s, loss=0.577, v_num=0]\nEpoch 2:  91%|█████████ | 1092/1200 [00:30<00:03, 35.44it/s, loss=0.577, v_num=0]\nValidating:  55%|█████▌    | 133/240 [00:01<00:01, 74.46it/s]\u001b[A\nEpoch 2:  92%|█████████▏| 1102/1200 [00:30<00:02, 35.61it/s, loss=0.577, v_num=0]\nEpoch 2:  93%|█████████▎| 1112/1200 [00:31<00:02, 35.78it/s, loss=0.577, v_num=0]\nEpoch 2:  94%|█████████▎| 1122/1200 [00:31<00:02, 35.94it/s, loss=0.577, v_num=0]\nEpoch 2:  94%|█████████▍| 1132/1200 [00:31<00:01, 36.11it/s, loss=0.577, v_num=0]\nValidating:  72%|███████▏  | 173/240 [00:02<00:00, 73.06it/s]\u001b[A\nEpoch 2:  95%|█████████▌| 1142/1200 [00:31<00:01, 36.26it/s, loss=0.577, v_num=0]\nEpoch 2:  96%|█████████▌| 1152/1200 [00:31<00:01, 36.43it/s, loss=0.577, v_num=0]\nEpoch 2:  97%|█████████▋| 1162/1200 [00:31<00:01, 36.60it/s, loss=0.577, v_num=0]\nEpoch 2:  98%|█████████▊| 1172/1200 [00:31<00:00, 36.75it/s, loss=0.577, v_num=0]\nValidating:  89%|████████▉ | 213/240 [00:02<00:00, 73.90it/s]\u001b[A\nEpoch 2:  98%|█████████▊| 1182/1200 [00:32<00:00, 36.92it/s, loss=0.577, v_num=0]\nEpoch 2:  99%|█████████▉| 1192/1200 [00:32<00:00, 37.10it/s, loss=0.577, v_num=0]\nValidating: 100%|█████████▉| 239/240 [00:03<00:00, 76.59it/s]\u001b[AVal-Acc=0.7995833333333333\nEpoch 2: 100%|██████████| 1200/1200 [00:32<00:00, 37.21it/s, loss=0.577, v_num=0]\nEpoch 3:  80%|████████  | 960/1200 [00:24<00:06, 38.60it/s, loss=0.555, v_num=0]\nValidating: 0it [00:00, ?it/s]\u001b[A\nEpoch 3:  81%|████████  | 970/1200 [00:25<00:05, 38.73it/s, loss=0.555, v_num=0]\nValidating:   5%|▌         | 13/240 [00:00<00:03, 61.72it/s]\u001b[A\nEpoch 3:  82%|████████▏ | 980/1200 [00:25<00:05, 38.83it/s, loss=0.555, v_num=0]\nValidating:  10%|█         | 24/240 [00:00<00:03, 56.46it/s]\u001b[A\nEpoch 3:  82%|████████▎ | 990/1200 [00:25<00:05, 38.93it/s, loss=0.555, v_num=0]\nEpoch 3:  83%|████████▎ | 1000/1200 [00:25<00:05, 39.02it/s, loss=0.555, v_num=0]\nValidating:  17%|█▋        | 41/240 [00:00<00:03, 53.10it/s]\u001b[A\nEpoch 3:  84%|████████▍ | 1010/1200 [00:25<00:04, 39.18it/s, loss=0.555, v_num=0]\nValidating:  22%|██▎       | 54/240 [00:00<00:03, 57.06it/s]\u001b[A\nEpoch 3:  85%|████████▌ | 1020/1200 [00:25<00:04, 39.30it/s, loss=0.555, v_num=0]\nEpoch 3:  86%|████████▌ | 1030/1200 [00:26<00:04, 39.46it/s, loss=0.555, v_num=0]\nEpoch 3:  87%|████████▋ | 1040/1200 [00:26<00:04, 39.63it/s, loss=0.555, v_num=0]\nValidating:  34%|███▍      | 82/240 [00:01<00:02, 64.74it/s]\u001b[A\nEpoch 3:  88%|████████▊ | 1050/1200 [00:26<00:03, 39.81it/s, loss=0.555, v_num=0]\nEpoch 3:  88%|████████▊ | 1060/1200 [00:26<00:03, 39.96it/s, loss=0.555, v_num=0]\nEpoch 3:  89%|████████▉ | 1070/1200 [00:26<00:03, 40.13it/s, loss=0.555, v_num=0]\nEpoch 3:  90%|█████████ | 1080/1200 [00:26<00:02, 40.31it/s, loss=0.555, v_num=0]\nValidating:  50%|█████     | 121/240 [00:01<00:01, 69.19it/s]\u001b[A\nEpoch 3:  91%|█████████ | 1090/1200 [00:26<00:02, 40.42it/s, loss=0.555, v_num=0]\nEpoch 3:  92%|█████████▏| 1100/1200 [00:27<00:02, 40.62it/s, loss=0.555, v_num=0]\nEpoch 3:  92%|█████████▎| 1110/1200 [00:27<00:02, 40.75it/s, loss=0.555, v_num=0]\nEpoch 3:  93%|█████████▎| 1120/1200 [00:27<00:01, 40.91it/s, loss=0.555, v_num=0]\nValidating:  67%|██████▋   | 161/240 [00:02<00:01, 70.37it/s]\u001b[A\nEpoch 3:  94%|█████████▍| 1130/1200 [00:27<00:01, 41.05it/s, loss=0.555, v_num=0]\nEpoch 3:  95%|█████████▌| 1140/1200 [00:27<00:01, 41.20it/s, loss=0.555, v_num=0]\nEpoch 3:  96%|█████████▌| 1150/1200 [00:27<00:01, 41.35it/s, loss=0.555, v_num=0]\nEpoch 3:  97%|█████████▋| 1160/1200 [00:27<00:00, 41.50it/s, loss=0.555, v_num=0]\nValidating:  84%|████████▍ | 202/240 [00:03<00:00, 68.98it/s]\u001b[A\nEpoch 3:  98%|█████████▊| 1170/1200 [00:28<00:00, 41.60it/s, loss=0.555, v_num=0]\nEpoch 3:  98%|█████████▊| 1180/1200 [00:28<00:00, 41.74it/s, loss=0.555, v_num=0]\nValidating:  93%|█████████▎| 223/240 [00:03<00:00, 60.39it/s]\u001b[A\nEpoch 3:  99%|█████████▉| 1190/1200 [00:28<00:00, 41.73it/s, loss=0.555, v_num=0]\nEpoch 3: 100%|██████████| 1200/1200 [00:28<00:00, 41.88it/s, loss=0.555, v_num=0]Val-Acc=0.8185\nEpoch 3: 100%|██████████| 1200/1200 [00:28<00:00, 41.87it/s, loss=0.555, v_num=0]\nEpoch 4:  47%|████▋     | 569/1200 [00:14<00:16, 38.53it/s, loss=0.512, v_num=0]Detected KeyboardInterrupt, attempting graceful shutdown...\nEpoch 4:  47%|████▋     | 569/1200 [00:14<00:16, 38.40it/s, loss=0.512, v_num=0]\n"
    },
    {
     "output_type": "execute_result",
     "data": {
      "text/plain": "1"
     },
     "metadata": {},
     "execution_count": 6
    }
   ],
   "source": [
    "# train\n",
    "model = SimpleNetwork(hidden_dim=hidden_dim, batch_size=batch_size, learning_rate=learning_rate)\n",
    "simple_network_logger = TensorBoardLogger(\n",
    "    save_dir=logdir,\n",
    "    name='simple_network'\n",
    ")\n",
    "trainer = pl.Trainer(max_epochs=epochs, logger=simple_network_logger)\n",
    "\n",
    "trainer.fit(model)"
   ]
  },
  {
   "cell_type": "code",
   "execution_count": 8,
   "metadata": {},
   "outputs": [
    {
     "output_type": "stream",
     "name": "stderr",
     "text": "GPU available: False, used: False\nNo environment variable for node rank defined. Set as 0.\n\n  | Name    | Type        | Params\n------------------------------------\n0 | model   | Sequential  | 159 K \n1 | model.0 | Linear      | 157 K \n2 | model.1 | BatchNorm1d | 400   \n3 | model.2 | ReLU        | 0     \n4 | model.3 | Dropout     | 0     \n5 | model.4 | Linear      | 2 K   \nValidation sanity check: 0it [00:00, ?it/s]Val-Acc=0.001\nEpoch 1:  80%|████████  | 960/1200 [00:36<00:09, 26.23it/s, loss=0.857, v_num=0]\nEpoch 1:  80%|████████  | 964/1200 [00:36<00:08, 26.28it/s, loss=0.857, v_num=0]\nEpoch 1:  81%|████████  | 969/1200 [00:36<00:08, 26.34it/s, loss=0.857, v_num=0]\nEpoch 1:  81%|████████  | 974/1200 [00:36<00:08, 26.40it/s, loss=0.857, v_num=0]\nEpoch 1:  82%|████████▏ | 980/1200 [00:37<00:08, 26.48it/s, loss=0.857, v_num=0]\nEpoch 1:  82%|████████▏ | 987/1200 [00:37<00:08, 26.60it/s, loss=0.857, v_num=0]\nEpoch 1:  83%|████████▎ | 996/1200 [00:37<00:07, 26.76it/s, loss=0.857, v_num=0]\nEpoch 1:  84%|████████▍ | 1005/1200 [00:37<00:07, 26.93it/s, loss=0.857, v_num=0]\nEpoch 1:  84%|████████▍ | 1014/1200 [00:37<00:06, 27.09it/s, loss=0.857, v_num=0]\nValidating:  23%|██▎       | 56/240 [00:00<00:02, 70.43it/s]\u001b[A\nEpoch 1:  85%|████████▌ | 1023/1200 [00:37<00:06, 27.16it/s, loss=0.857, v_num=0]\nEpoch 1:  86%|████████▌ | 1032/1200 [00:37<00:06, 27.29it/s, loss=0.857, v_num=0]\nEpoch 1:  87%|████████▋ | 1041/1200 [00:37<00:05, 27.44it/s, loss=0.857, v_num=0]\nEpoch 1:  88%|████████▊ | 1050/1200 [00:38<00:05, 27.59it/s, loss=0.857, v_num=0]\nEpoch 1:  88%|████████▊ | 1059/1200 [00:38<00:05, 27.75it/s, loss=0.857, v_num=0]\nEpoch 1:  89%|████████▉ | 1068/1200 [00:38<00:04, 27.90it/s, loss=0.857, v_num=0]\nEpoch 1:  90%|████████▉ | 1077/1200 [00:38<00:04, 28.06it/s, loss=0.857, v_num=0]\nEpoch 1:  90%|█████████ | 1086/1200 [00:38<00:04, 28.21it/s, loss=0.857, v_num=0]\nEpoch 1:  91%|█████████▏| 1095/1200 [00:38<00:03, 28.36it/s, loss=0.857, v_num=0]\nEpoch 1:  92%|█████████▏| 1104/1200 [00:38<00:03, 28.49it/s, loss=0.857, v_num=0]\nEpoch 1:  93%|█████████▎| 1113/1200 [00:38<00:03, 28.62it/s, loss=0.857, v_num=0]\nEpoch 1:  94%|█████████▎| 1122/1200 [00:38<00:02, 28.77it/s, loss=0.857, v_num=0]\nEpoch 1:  94%|█████████▍| 1131/1200 [00:39<00:02, 28.92it/s, loss=0.857, v_num=0]\nEpoch 1:  95%|█████████▌| 1140/1200 [00:39<00:02, 29.07it/s, loss=0.857, v_num=0]\nEpoch 1:  96%|█████████▌| 1149/1200 [00:39<00:01, 29.22it/s, loss=0.857, v_num=0]\nEpoch 1:  96%|█████████▋| 1158/1200 [00:39<00:01, 29.36it/s, loss=0.857, v_num=0]\nValidating:  83%|████████▎ | 199/240 [00:02<00:00, 78.89it/s]\u001b[A\nEpoch 1:  97%|█████████▋| 1167/1200 [00:39<00:01, 29.47it/s, loss=0.857, v_num=0]\nEpoch 1:  98%|█████████▊| 1176/1200 [00:39<00:00, 29.63it/s, loss=0.857, v_num=0]\nEpoch 1:  99%|█████████▉| 1185/1200 [00:39<00:00, 29.78it/s, loss=0.857, v_num=0]\nEpoch 1: 100%|█████████▉| 1194/1200 [00:39<00:00, 29.91it/s, loss=0.857, v_num=0]Val-Acc=0.7906666666666666\nEpoch 1: 100%|██████████| 1200/1200 [00:40<00:00, 30.00it/s, loss=0.857, v_num=0]\nEpoch 2:  80%|████████  | 960/1200 [00:31<00:07, 30.43it/s, loss=0.711, v_num=0]\nEpoch 2:  80%|████████  | 963/1200 [00:31<00:07, 30.46it/s, loss=0.711, v_num=0]\nEpoch 2:  81%|████████  | 972/1200 [00:31<00:07, 30.61it/s, loss=0.711, v_num=0]\nValidating:   5%|▌         | 13/240 [00:00<00:03, 59.89it/s]\u001b[A\nEpoch 2:  82%|████████▏ | 981/1200 [00:31<00:07, 30.76it/s, loss=0.711, v_num=0]\nEpoch 2:  82%|████████▎ | 990/1200 [00:32<00:06, 30.90it/s, loss=0.711, v_num=0]\nEpoch 2:  83%|████████▎ | 999/1200 [00:32<00:06, 31.05it/s, loss=0.711, v_num=0]\nValidating:  17%|█▋        | 40/240 [00:00<00:03, 61.57it/s]\u001b[A\nEpoch 2:  84%|████████▍ | 1008/1200 [00:32<00:06, 31.18it/s, loss=0.711, v_num=0]\nEpoch 2:  85%|████████▍ | 1017/1200 [00:32<00:05, 31.33it/s, loss=0.711, v_num=0]\nEpoch 2:  86%|████████▌ | 1026/1200 [00:32<00:05, 31.44it/s, loss=0.711, v_num=0]\nEpoch 2:  86%|████████▋ | 1035/1200 [00:32<00:05, 31.60it/s, loss=0.711, v_num=0]\nEpoch 2:  87%|████████▋ | 1044/1200 [00:32<00:04, 31.75it/s, loss=0.711, v_num=0]\nEpoch 2:  88%|████████▊ | 1053/1200 [00:32<00:04, 31.93it/s, loss=0.711, v_num=0]\nEpoch 2:  88%|████████▊ | 1062/1200 [00:33<00:04, 32.09it/s, loss=0.711, v_num=0]\nEpoch 2:  89%|████████▉ | 1071/1200 [00:33<00:03, 32.26it/s, loss=0.711, v_num=0]\nEpoch 2:  90%|█████████ | 1080/1200 [00:33<00:03, 32.42it/s, loss=0.711, v_num=0]\nEpoch 2:  91%|█████████ | 1089/1200 [00:33<00:03, 32.59it/s, loss=0.711, v_num=0]\nEpoch 2:  92%|█████████▏| 1098/1200 [00:33<00:03, 32.75it/s, loss=0.711, v_num=0]\nEpoch 2:  92%|█████████▏| 1107/1200 [00:33<00:02, 32.90it/s, loss=0.711, v_num=0]\nEpoch 2:  93%|█████████▎| 1116/1200 [00:33<00:02, 33.06it/s, loss=0.711, v_num=0]\nEpoch 2:  94%|█████████▍| 1125/1200 [00:33<00:02, 33.22it/s, loss=0.711, v_num=0]\nEpoch 2:  94%|█████████▍| 1134/1200 [00:33<00:01, 33.37it/s, loss=0.711, v_num=0]\nEpoch 2:  95%|█████████▌| 1143/1200 [00:34<00:01, 33.52it/s, loss=0.711, v_num=0]\nEpoch 2:  96%|█████████▌| 1152/1200 [00:34<00:01, 33.68it/s, loss=0.711, v_num=0]\nEpoch 2:  97%|█████████▋| 1161/1200 [00:34<00:01, 33.84it/s, loss=0.711, v_num=0]\nEpoch 2:  98%|█████████▊| 1170/1200 [00:34<00:00, 33.98it/s, loss=0.711, v_num=0]\nEpoch 2:  98%|█████████▊| 1179/1200 [00:34<00:00, 34.14it/s, loss=0.711, v_num=0]\nEpoch 2:  99%|█████████▉| 1188/1200 [00:34<00:00, 34.27it/s, loss=0.711, v_num=0]\nValidating:  95%|█████████▌| 229/240 [00:03<00:00, 76.33it/s]\u001b[A\nEpoch 2: 100%|█████████▉| 1197/1200 [00:34<00:00, 34.39it/s, loss=0.711, v_num=0]Val-Acc=0.8171666666666667\nEpoch 2: 100%|██████████| 1200/1200 [00:34<00:00, 34.43it/s, loss=0.711, v_num=0]\nEpoch 3:  80%|████████  | 960/1200 [00:31<00:07, 30.92it/s, loss=0.629, v_num=0]\nEpoch 3:  80%|████████  | 963/1200 [00:31<00:07, 30.95it/s, loss=0.629, v_num=0]\nValidating:   2%|▎         | 6/240 [00:00<00:04, 51.42it/s]\u001b[A\nEpoch 3:  81%|████████  | 972/1200 [00:31<00:07, 31.07it/s, loss=0.629, v_num=0]\nEpoch 3:  82%|████████▏ | 981/1200 [00:31<00:07, 31.21it/s, loss=0.629, v_num=0]\nEpoch 3:  82%|████████▎ | 990/1200 [00:31<00:06, 31.34it/s, loss=0.629, v_num=0]\nValidating:  13%|█▎        | 32/240 [00:00<00:03, 56.36it/s]\u001b[A\nEpoch 3:  83%|████████▎ | 999/1200 [00:31<00:06, 31.47it/s, loss=0.629, v_num=0]\nEpoch 3:  84%|████████▍ | 1008/1200 [00:31<00:06, 31.55it/s, loss=0.629, v_num=0]\nValidating:  21%|██        | 50/240 [00:00<00:03, 49.94it/s]\u001b[A\nEpoch 3:  85%|████████▍ | 1017/1200 [00:32<00:05, 31.68it/s, loss=0.629, v_num=0]\nEpoch 3:  86%|████████▌ | 1026/1200 [00:32<00:05, 31.80it/s, loss=0.629, v_num=0]\nValidating:  29%|██▉       | 69/240 [00:01<00:03, 47.14it/s]\u001b[A\nEpoch 3:  86%|████████▋ | 1035/1200 [00:32<00:05, 31.82it/s, loss=0.629, v_num=0]\nEpoch 3:  87%|████████▋ | 1044/1200 [00:32<00:04, 31.93it/s, loss=0.629, v_num=0]\nValidating:  36%|███▌      | 86/240 [00:01<00:03, 48.88it/s]\u001b[A\nEpoch 3:  88%|████████▊ | 1053/1200 [00:32<00:04, 32.05it/s, loss=0.629, v_num=0]\nEpoch 3:  88%|████████▊ | 1062/1200 [00:32<00:04, 32.20it/s, loss=0.629, v_num=0]\nValidating:  44%|████▍     | 105/240 [00:01<00:02, 56.42it/s]\u001b[A\nEpoch 3:  89%|████████▉ | 1071/1200 [00:33<00:03, 32.31it/s, loss=0.629, v_num=0]\nEpoch 3:  90%|█████████ | 1080/1200 [00:33<00:03, 32.42it/s, loss=0.629, v_num=0]\nValidating:  51%|█████▏    | 123/240 [00:02<00:02, 52.47it/s]\u001b[A\nEpoch 3:  91%|█████████ | 1089/1200 [00:33<00:03, 32.50it/s, loss=0.629, v_num=0]\nEpoch 3:  92%|█████████▏| 1098/1200 [00:33<00:03, 32.63it/s, loss=0.629, v_num=0]\nEpoch 3:  92%|█████████▏| 1107/1200 [00:33<00:02, 32.74it/s, loss=0.629, v_num=0]\nValidating:  62%|██████▏   | 148/240 [00:02<00:01, 55.67it/s]\u001b[A\nEpoch 3:  93%|█████████▎| 1116/1200 [00:33<00:02, 32.85it/s, loss=0.629, v_num=0]\nEpoch 3:  94%|█████████▍| 1125/1200 [00:34<00:02, 32.96it/s, loss=0.629, v_num=0]\nValidating:  70%|██████▉   | 167/240 [00:03<00:01, 55.74it/s]\u001b[A\nEpoch 3:  94%|█████████▍| 1134/1200 [00:34<00:01, 33.04it/s, loss=0.629, v_num=0]\nEpoch 3:  95%|█████████▌| 1143/1200 [00:34<00:01, 33.13it/s, loss=0.629, v_num=0]\nValidating:  77%|███████▋  | 185/240 [00:03<00:01, 48.64it/s]\u001b[A\nEpoch 3:  96%|█████████▌| 1152/1200 [00:34<00:01, 33.15it/s, loss=0.629, v_num=0]\nValidating:  81%|████████▏ | 195/240 [00:03<00:01, 42.34it/s]\u001b[A\nEpoch 3:  97%|█████████▋| 1161/1200 [00:35<00:01, 33.12it/s, loss=0.629, v_num=0]\nEpoch 3:  98%|█████████▊| 1170/1200 [00:35<00:00, 33.22it/s, loss=0.629, v_num=0]\nValidating:  88%|████████▊ | 212/240 [00:04<00:00, 34.97it/s]\u001b[A\nEpoch 3:  98%|█████████▊| 1179/1200 [00:35<00:00, 33.10it/s, loss=0.629, v_num=0]\nValidating:  92%|█████████▏| 220/240 [00:04<00:00, 30.97it/s]\u001b[A\nEpoch 3:  99%|█████████▉| 1188/1200 [00:35<00:00, 33.23it/s, loss=0.629, v_num=0]\nEpoch 3: 100%|█████████▉| 1197/1200 [00:35<00:00, 33.36it/s, loss=0.629, v_num=0]Val-Acc=0.832\nEpoch 3: 100%|██████████| 1200/1200 [00:35<00:00, 33.39it/s, loss=0.629, v_num=0]\nEpoch 4:  80%|████████  | 960/1200 [00:28<00:07, 33.72it/s, loss=0.548, v_num=0]\nEpoch 4:  80%|████████  | 963/1200 [00:28<00:07, 33.76it/s, loss=0.548, v_num=0]\nEpoch 4:  81%|████████  | 972/1200 [00:28<00:06, 33.94it/s, loss=0.548, v_num=0]\nEpoch 4:  82%|████████▏ | 981/1200 [00:28<00:06, 34.13it/s, loss=0.548, v_num=0]\nEpoch 4:  82%|████████▎ | 990/1200 [00:28<00:06, 34.29it/s, loss=0.548, v_num=0]\nEpoch 4:  83%|████████▎ | 999/1200 [00:28<00:05, 34.48it/s, loss=0.548, v_num=0]\nEpoch 4:  84%|████████▍ | 1008/1200 [00:29<00:05, 34.66it/s, loss=0.548, v_num=0]\nEpoch 4:  85%|████████▍ | 1017/1200 [00:29<00:05, 34.85it/s, loss=0.548, v_num=0]\nEpoch 4:  86%|████████▌ | 1026/1200 [00:29<00:04, 35.03it/s, loss=0.548, v_num=0]\nEpoch 4:  86%|████████▋ | 1035/1200 [00:29<00:04, 35.21it/s, loss=0.548, v_num=0]\nEpoch 4:  87%|████████▋ | 1044/1200 [00:29<00:04, 35.39it/s, loss=0.548, v_num=0]\nEpoch 4:  88%|████████▊ | 1053/1200 [00:29<00:04, 35.55it/s, loss=0.548, v_num=0]\nEpoch 4:  88%|████████▊ | 1062/1200 [00:29<00:03, 35.73it/s, loss=0.548, v_num=0]\nEpoch 4:  89%|████████▉ | 1072/1200 [00:29<00:03, 35.94it/s, loss=0.548, v_num=0]\nEpoch 4:  90%|█████████ | 1082/1200 [00:29<00:03, 36.15it/s, loss=0.548, v_num=0]\nEpoch 4:  91%|█████████ | 1092/1200 [00:30<00:02, 36.35it/s, loss=0.548, v_num=0]\nEpoch 4:  92%|█████████▏| 1102/1200 [00:30<00:02, 36.56it/s, loss=0.548, v_num=0]\nEpoch 4:  93%|█████████▎| 1112/1200 [00:30<00:02, 36.76it/s, loss=0.548, v_num=0]\nEpoch 4:  94%|█████████▎| 1122/1200 [00:30<00:02, 36.97it/s, loss=0.548, v_num=0]\nEpoch 4:  94%|█████████▍| 1132/1200 [00:30<00:01, 37.16it/s, loss=0.548, v_num=0]\nEpoch 4:  95%|█████████▌| 1142/1200 [00:30<00:01, 37.36it/s, loss=0.548, v_num=0]\nEpoch 4:  96%|█████████▌| 1152/1200 [00:30<00:01, 37.56it/s, loss=0.548, v_num=0]\nEpoch 4:  97%|█████████▋| 1162/1200 [00:30<00:01, 37.76it/s, loss=0.548, v_num=0]\nEpoch 4:  98%|█████████▊| 1172/1200 [00:30<00:00, 37.96it/s, loss=0.548, v_num=0]\nEpoch 4:  98%|█████████▊| 1182/1200 [00:30<00:00, 38.15it/s, loss=0.548, v_num=0]\nEpoch 4:  99%|█████████▉| 1192/1200 [00:31<00:00, 38.34it/s, loss=0.548, v_num=0]\nValidating:  99%|█████████▉| 237/240 [00:02<00:00, 93.88it/s]\u001b[AVal-Acc=0.8356666666666667\nEpoch 4: 100%|██████████| 1200/1200 [00:31<00:00, 38.48it/s, loss=0.548, v_num=0]\nEpoch 5:  80%|████████  | 960/1200 [00:23<00:05, 41.33it/s, loss=0.572, v_num=0]\nValidating: 0it [00:00, ?it/s]\u001b[A\nEpoch 5:  81%|████████  | 970/1200 [00:23<00:05, 41.51it/s, loss=0.572, v_num=0]\nEpoch 5:  82%|████████▏ | 980/1200 [00:23<00:05, 41.72it/s, loss=0.572, v_num=0]\nEpoch 5:  82%|████████▎ | 990/1200 [00:23<00:05, 41.93it/s, loss=0.572, v_num=0]\nEpoch 5:  83%|████████▎ | 1000/1200 [00:23<00:04, 42.17it/s, loss=0.572, v_num=0]\nEpoch 5:  84%|████████▍ | 1010/1200 [00:23<00:04, 42.37it/s, loss=0.572, v_num=0]\nEpoch 5:  85%|████████▌ | 1020/1200 [00:24<00:04, 42.45it/s, loss=0.572, v_num=0]\nValidating:  25%|██▌       | 61/240 [00:00<00:02, 67.39it/s]\u001b[A\nEpoch 5:  86%|████████▌ | 1030/1200 [00:24<00:03, 42.53it/s, loss=0.572, v_num=0]\nEpoch 5:  87%|████████▋ | 1040/1200 [00:24<00:03, 42.76it/s, loss=0.572, v_num=0]\nEpoch 5:  88%|████████▊ | 1050/1200 [00:24<00:03, 42.96it/s, loss=0.572, v_num=0]\nEpoch 5:  88%|████████▊ | 1060/1200 [00:24<00:03, 43.13it/s, loss=0.572, v_num=0]\nEpoch 5:  89%|████████▉ | 1070/1200 [00:24<00:02, 43.35it/s, loss=0.572, v_num=0]\nEpoch 5:  90%|█████████ | 1080/1200 [00:24<00:02, 43.51it/s, loss=0.572, v_num=0]\nValidating:  50%|█████     | 121/240 [00:01<00:01, 76.09it/s]\u001b[A\nEpoch 5:  91%|█████████ | 1090/1200 [00:24<00:02, 43.70it/s, loss=0.572, v_num=0]\nEpoch 5:  92%|█████████▏| 1100/1200 [00:25<00:02, 43.88it/s, loss=0.572, v_num=0]\nEpoch 5:  92%|█████████▎| 1110/1200 [00:25<00:02, 44.08it/s, loss=0.572, v_num=0]\nEpoch 5:  93%|█████████▎| 1120/1200 [00:25<00:01, 44.26it/s, loss=0.572, v_num=0]\nEpoch 5:  94%|█████████▍| 1130/1200 [00:25<00:01, 44.46it/s, loss=0.572, v_num=0]\nEpoch 5:  95%|█████████▌| 1140/1200 [00:25<00:01, 44.66it/s, loss=0.572, v_num=0]\nEpoch 5:  96%|█████████▌| 1150/1200 [00:25<00:01, 44.83it/s, loss=0.572, v_num=0]\nEpoch 5:  97%|█████████▋| 1160/1200 [00:25<00:00, 44.95it/s, loss=0.572, v_num=0]\nEpoch 5:  98%|█████████▊| 1170/1200 [00:25<00:00, 45.12it/s, loss=0.572, v_num=0]\nValidating:  88%|████████▊ | 211/240 [00:02<00:00, 76.11it/s]\u001b[A\nEpoch 5:  98%|█████████▊| 1180/1200 [00:26<00:00, 45.25it/s, loss=0.572, v_num=0]\nEpoch 5:  99%|█████████▉| 1190/1200 [00:26<00:00, 45.43it/s, loss=0.572, v_num=0]\nEpoch 5: 100%|██████████| 1200/1200 [00:26<00:00, 45.58it/s, loss=0.572, v_num=0]Val-Acc=0.8418333333333333\nEpoch 5: 100%|██████████| 1200/1200 [00:26<00:00, 45.57it/s, loss=0.572, v_num=0]\nEpoch 5: 100%|██████████| 1200/1200 [00:26<00:00, 45.54it/s, loss=0.572, v_num=0]\n"
    },
    {
     "output_type": "execute_result",
     "data": {
      "text/plain": "1"
     },
     "metadata": {},
     "execution_count": 8
    }
   ],
   "source": [
    "# train\n",
    "model = DropoutNetwork(hidden_dim=hidden_dim, batch_size=batch_size, learning_rate=learning_rate,dropout_p=0.75)\n",
    "dropout_network_logger = TensorBoardLogger(\n",
    "    save_dir=logdir,\n",
    "    name='dropout_network'\n",
    ")\n",
    "trainer = pl.Trainer(max_epochs=epochs, logger=dropout_network_logger)\n",
    "\n",
    "trainer.fit(model)"
   ]
  },
  {
   "cell_type": "code",
   "execution_count": 9,
   "metadata": {},
   "outputs": [
    {
     "name": "stdout",
     "output_type": "stream",
     "text": "The tensorboard extension is already loaded. To reload it, use:\n  %reload_ext tensorboard\n"
    },
    {
     "data": {
      "text/plain": "Reusing TensorBoard on port 6006 (pid 24784), started 0:06:44 ago. (Use '!kill 24784' to kill it.)"
     },
     "metadata": {},
     "output_type": "display_data"
    }
   ],
   "source": [
    "%load_ext tensorboard\n",
    "%tensorboard --logdir dropout_logs"
   ]
  },
  {
   "cell_type": "markdown",
   "metadata": {},
   "source": [
    "## Observation\n",
    "As you can see, by using Dropout we would see that the Training Accuracy would decrease but the model would perform better on the Validation Set. Like Batch Normalization, Dropout also has different behavior at Train and Test time. "
   ]
  }
 ],
 "metadata": {
  "kernelspec": {
   "display_name": "Python 3.7.3 64-bit ('pytorch': conda)",
   "language": "python",
   "name": "python37364bitpytorchconda1545031e98af432db1e61eacbd344185"
  },
  "language_info": {
   "codemirror_mode": {
    "name": "ipython",
    "version": 3
   },
   "file_extension": ".py",
   "mimetype": "text/x-python",
   "name": "python",
   "nbconvert_exporter": "python",
   "pygments_lexer": "ipython3",
   "version": "3.7.3-final"
  }
 },
 "nbformat": 4,
 "nbformat_minor": 1
}